{
 "cells": [
  {
   "cell_type": "markdown",
   "metadata": {
    "id": "sRdjIz1LHZk6"
   },
   "source": [
    "#Instructor:\n",
    "- Sarawoot Kongyoung\n",
    "- Piyawat Chuangkrud\n",
    "\n",
    "References:\n",
    "\n",
    "[PyTerrier’s documentation](https://pyterrier.readthedocs.io/en/latest/)\n",
    "\n",
    "[Notebooks](https://github.com/terrier-org/pyterrier/blob/master/examples/notebooks.md)"
   ]
  },
  {
   "cell_type": "markdown",
   "metadata": {
    "id": "6g8wgnNIlZmk"
   },
   "source": [
    "# Prerequisites\n",
    "You will need PyTerrier installed. PyTerrier also needs Java to be installed, and will find most installations.\n"
   ]
  },
  {
   "cell_type": "code",
   "execution_count": 1,
   "metadata": {
    "id": "CcoygTHQNICN",
    "scrolled": true
   },
   "outputs": [
    {
     "name": "stdout",
     "output_type": "stream",
     "text": [
      "Defaulting to user installation because normal site-packages is not writeable\n",
      "Requirement already satisfied: python-terrier in /home/search/.local/lib/python3.10/site-packages (0.10.0)\n",
      "Requirement already satisfied: tqdm in /home/search/.local/lib/python3.10/site-packages (from python-terrier) (4.66.2)\n",
      "Requirement already satisfied: chest in /home/search/.local/lib/python3.10/site-packages (from python-terrier) (0.2.3)\n",
      "Requirement already satisfied: statsmodels in /home/search/.local/lib/python3.10/site-packages (from python-terrier) (0.14.1)\n",
      "Requirement already satisfied: pyjnius>=1.4.2 in /home/search/.local/lib/python3.10/site-packages (from python-terrier) (1.6.1)\n",
      "Requirement already satisfied: scipy in /home/search/.local/lib/python3.10/site-packages (from python-terrier) (1.12.0)\n",
      "Requirement already satisfied: ir-datasets>=0.3.2 in /home/search/.local/lib/python3.10/site-packages (from python-terrier) (0.5.6)\n",
      "Requirement already satisfied: deprecated in /home/search/.local/lib/python3.10/site-packages (from python-terrier) (1.2.14)\n",
      "Requirement already satisfied: dill in /home/search/.local/lib/python3.10/site-packages (from python-terrier) (0.3.8)\n",
      "Requirement already satisfied: pytrec-eval-terrier>=0.5.3 in /home/search/.local/lib/python3.10/site-packages (from python-terrier) (0.5.6)\n",
      "Requirement already satisfied: pandas in /home/search/.local/lib/python3.10/site-packages (from python-terrier) (2.2.0)\n",
      "Requirement already satisfied: jinja2 in /home/search/.local/lib/python3.10/site-packages (from python-terrier) (3.1.3)\n",
      "Requirement already satisfied: wget in /home/search/.local/lib/python3.10/site-packages (from python-terrier) (3.2)\n",
      "Requirement already satisfied: more-itertools in /usr/lib/python3/dist-packages (from python-terrier) (8.10.0)\n",
      "Requirement already satisfied: scikit-learn in /home/search/.local/lib/python3.10/site-packages (from python-terrier) (1.4.1.post1)\n",
      "Requirement already satisfied: numpy in /home/search/.local/lib/python3.10/site-packages (from python-terrier) (1.26.4)\n",
      "Requirement already satisfied: ir-measures>=0.3.1 in /home/search/.local/lib/python3.10/site-packages (from python-terrier) (0.3.3)\n",
      "Requirement already satisfied: joblib in /home/search/.local/lib/python3.10/site-packages (from python-terrier) (1.3.2)\n",
      "Requirement already satisfied: requests in /home/search/.local/lib/python3.10/site-packages (from python-terrier) (2.31.0)\n",
      "Requirement already satisfied: matchpy in /home/search/.local/lib/python3.10/site-packages (from python-terrier) (0.5.5)\n",
      "Requirement already satisfied: nptyping==1.4.4 in /home/search/.local/lib/python3.10/site-packages (from python-terrier) (1.4.4)\n",
      "Requirement already satisfied: typish>=1.7.0 in /home/search/.local/lib/python3.10/site-packages (from nptyping==1.4.4->python-terrier) (1.9.3)\n",
      "Requirement already satisfied: trec-car-tools>=2.5.4 in /home/search/.local/lib/python3.10/site-packages (from ir-datasets>=0.3.2->python-terrier) (2.6)\n",
      "Requirement already satisfied: warc3-wet-clueweb09>=0.2.5 in /home/search/.local/lib/python3.10/site-packages (from ir-datasets>=0.3.2->python-terrier) (0.2.5)\n",
      "Requirement already satisfied: lxml>=4.5.2 in /home/search/.local/lib/python3.10/site-packages (from ir-datasets>=0.3.2->python-terrier) (5.1.0)\n",
      "Requirement already satisfied: beautifulsoup4>=4.4.1 in /home/search/.local/lib/python3.10/site-packages (from ir-datasets>=0.3.2->python-terrier) (4.12.3)\n",
      "Requirement already satisfied: inscriptis>=2.2.0 in /home/search/.local/lib/python3.10/site-packages (from ir-datasets>=0.3.2->python-terrier) (2.5.0)\n",
      "Requirement already satisfied: pyautocorpus>=0.1.1 in /home/search/.local/lib/python3.10/site-packages (from ir-datasets>=0.3.2->python-terrier) (0.1.12)\n",
      "Requirement already satisfied: warc3-wet>=0.2.3 in /home/search/.local/lib/python3.10/site-packages (from ir-datasets>=0.3.2->python-terrier) (0.2.3)\n",
      "Requirement already satisfied: ijson>=3.1.3 in /home/search/.local/lib/python3.10/site-packages (from ir-datasets>=0.3.2->python-terrier) (3.2.3)\n",
      "Requirement already satisfied: lz4>=3.1.10 in /home/search/.local/lib/python3.10/site-packages (from ir-datasets>=0.3.2->python-terrier) (4.3.3)\n",
      "Requirement already satisfied: zlib-state>=0.1.3 in /home/search/.local/lib/python3.10/site-packages (from ir-datasets>=0.3.2->python-terrier) (0.1.6)\n",
      "Requirement already satisfied: unlzw3>=0.2.1 in /home/search/.local/lib/python3.10/site-packages (from ir-datasets>=0.3.2->python-terrier) (0.2.2)\n",
      "Requirement already satisfied: pyyaml>=5.3.1 in /home/search/.local/lib/python3.10/site-packages (from ir-datasets>=0.3.2->python-terrier) (6.0.1)\n",
      "Requirement already satisfied: cwl-eval>=1.0.10 in /home/search/.local/lib/python3.10/site-packages (from ir-measures>=0.3.1->python-terrier) (1.0.12)\n",
      "Requirement already satisfied: idna<4,>=2.5 in /home/search/.local/lib/python3.10/site-packages (from requests->python-terrier) (3.6)\n",
      "Requirement already satisfied: charset-normalizer<4,>=2 in /home/search/.local/lib/python3.10/site-packages (from requests->python-terrier) (3.3.2)\n",
      "Requirement already satisfied: urllib3<3,>=1.21.1 in /home/search/.local/lib/python3.10/site-packages (from requests->python-terrier) (2.2.0)\n",
      "Requirement already satisfied: certifi>=2017.4.17 in /home/search/.local/lib/python3.10/site-packages (from requests->python-terrier) (2024.2.2)\n",
      "Requirement already satisfied: heapdict in /home/search/.local/lib/python3.10/site-packages (from chest->python-terrier) (1.0.1)\n",
      "Requirement already satisfied: wrapt<2,>=1.10 in /home/search/.local/lib/python3.10/site-packages (from deprecated->python-terrier) (1.16.0)\n",
      "Requirement already satisfied: MarkupSafe>=2.0 in /home/search/.local/lib/python3.10/site-packages (from jinja2->python-terrier) (2.1.5)\n",
      "Requirement already satisfied: multiset<3.0,>=2.0 in /home/search/.local/lib/python3.10/site-packages (from matchpy->python-terrier) (2.1.1)\n",
      "Requirement already satisfied: tzdata>=2022.7 in /home/search/.local/lib/python3.10/site-packages (from pandas->python-terrier) (2024.1)\n",
      "Requirement already satisfied: pytz>=2020.1 in /home/search/.local/lib/python3.10/site-packages (from pandas->python-terrier) (2024.1)\n",
      "Requirement already satisfied: python-dateutil>=2.8.2 in /home/search/.local/lib/python3.10/site-packages (from pandas->python-terrier) (2.8.2)\n",
      "Requirement already satisfied: threadpoolctl>=2.0.0 in /home/search/.local/lib/python3.10/site-packages (from scikit-learn->python-terrier) (3.3.0)\n",
      "Requirement already satisfied: packaging>=21.3 in /home/search/.local/lib/python3.10/site-packages (from statsmodels->python-terrier) (23.2)\n",
      "Requirement already satisfied: patsy>=0.5.4 in /home/search/.local/lib/python3.10/site-packages (from statsmodels->python-terrier) (0.5.6)\n",
      "Requirement already satisfied: soupsieve>1.2 in /home/search/.local/lib/python3.10/site-packages (from beautifulsoup4>=4.4.1->ir-datasets>=0.3.2->python-terrier) (2.5)\n",
      "Requirement already satisfied: six in /usr/lib/python3/dist-packages (from patsy>=0.5.4->statsmodels->python-terrier) (1.16.0)\n",
      "Requirement already satisfied: cbor>=1.0.0 in /home/search/.local/lib/python3.10/site-packages (from trec-car-tools>=2.5.4->ir-datasets>=0.3.2->python-terrier) (1.0.0)\n",
      "Defaulting to user installation because normal site-packages is not writeable\n",
      "Requirement already satisfied: datasets in /home/search/.local/lib/python3.10/site-packages (2.17.1)\n",
      "Requirement already satisfied: xxhash in /home/search/.local/lib/python3.10/site-packages (from datasets) (3.4.1)\n",
      "Requirement already satisfied: fsspec[http]<=2023.10.0,>=2023.1.0 in /home/search/.local/lib/python3.10/site-packages (from datasets) (2023.10.0)\n",
      "Requirement already satisfied: packaging in /home/search/.local/lib/python3.10/site-packages (from datasets) (23.2)\n",
      "Requirement already satisfied: numpy>=1.17 in /home/search/.local/lib/python3.10/site-packages (from datasets) (1.26.4)\n",
      "Requirement already satisfied: filelock in /home/search/.local/lib/python3.10/site-packages (from datasets) (3.13.1)\n",
      "Requirement already satisfied: pyyaml>=5.1 in /home/search/.local/lib/python3.10/site-packages (from datasets) (6.0.1)\n",
      "Requirement already satisfied: pyarrow>=12.0.0 in /home/search/.local/lib/python3.10/site-packages (from datasets) (15.0.0)\n",
      "Requirement already satisfied: pandas in /home/search/.local/lib/python3.10/site-packages (from datasets) (2.2.0)\n",
      "Requirement already satisfied: tqdm>=4.62.1 in /home/search/.local/lib/python3.10/site-packages (from datasets) (4.66.2)\n",
      "Requirement already satisfied: multiprocess in /home/search/.local/lib/python3.10/site-packages (from datasets) (0.70.16)\n",
      "Requirement already satisfied: pyarrow-hotfix in /home/search/.local/lib/python3.10/site-packages (from datasets) (0.6)\n",
      "Requirement already satisfied: dill<0.3.9,>=0.3.0 in /home/search/.local/lib/python3.10/site-packages (from datasets) (0.3.8)\n",
      "Requirement already satisfied: aiohttp in /home/search/.local/lib/python3.10/site-packages (from datasets) (3.9.3)\n",
      "Requirement already satisfied: requests>=2.19.0 in /home/search/.local/lib/python3.10/site-packages (from datasets) (2.31.0)\n",
      "Requirement already satisfied: huggingface-hub>=0.19.4 in /home/search/.local/lib/python3.10/site-packages (from datasets) (0.20.3)\n",
      "Requirement already satisfied: attrs>=17.3.0 in /home/search/.local/lib/python3.10/site-packages (from aiohttp->datasets) (23.2.0)\n",
      "Requirement already satisfied: aiosignal>=1.1.2 in /home/search/.local/lib/python3.10/site-packages (from aiohttp->datasets) (1.3.1)\n",
      "Requirement already satisfied: async-timeout<5.0,>=4.0 in /home/search/.local/lib/python3.10/site-packages (from aiohttp->datasets) (4.0.3)\n",
      "Requirement already satisfied: frozenlist>=1.1.1 in /home/search/.local/lib/python3.10/site-packages (from aiohttp->datasets) (1.4.1)\n",
      "Requirement already satisfied: multidict<7.0,>=4.5 in /home/search/.local/lib/python3.10/site-packages (from aiohttp->datasets) (6.0.5)\n",
      "Requirement already satisfied: yarl<2.0,>=1.0 in /home/search/.local/lib/python3.10/site-packages (from aiohttp->datasets) (1.9.4)\n",
      "Requirement already satisfied: typing-extensions>=3.7.4.3 in /home/search/.local/lib/python3.10/site-packages (from huggingface-hub>=0.19.4->datasets) (4.9.0)\n",
      "Requirement already satisfied: urllib3<3,>=1.21.1 in /home/search/.local/lib/python3.10/site-packages (from requests>=2.19.0->datasets) (2.2.0)\n",
      "Requirement already satisfied: idna<4,>=2.5 in /home/search/.local/lib/python3.10/site-packages (from requests>=2.19.0->datasets) (3.6)\n",
      "Requirement already satisfied: charset-normalizer<4,>=2 in /home/search/.local/lib/python3.10/site-packages (from requests>=2.19.0->datasets) (3.3.2)\n",
      "Requirement already satisfied: certifi>=2017.4.17 in /home/search/.local/lib/python3.10/site-packages (from requests>=2.19.0->datasets) (2024.2.2)\n",
      "Requirement already satisfied: python-dateutil>=2.8.2 in /home/search/.local/lib/python3.10/site-packages (from pandas->datasets) (2.8.2)\n",
      "Requirement already satisfied: pytz>=2020.1 in /home/search/.local/lib/python3.10/site-packages (from pandas->datasets) (2024.1)\n",
      "Requirement already satisfied: tzdata>=2022.7 in /home/search/.local/lib/python3.10/site-packages (from pandas->datasets) (2024.1)\n",
      "Requirement already satisfied: six>=1.5 in /usr/lib/python3/dist-packages (from python-dateutil>=2.8.2->pandas->datasets) (1.16.0)\n",
      "Defaulting to user installation because normal site-packages is not writeable\n",
      "Collecting lextoplus\n",
      "  Downloading lextoplus-0.0.5-py3-none-any.whl (234 kB)\n",
      "\u001b[2K     \u001b[90m━━━━━━━━━━━━━━━━━━━━━━━━━━━━━━━━━━━━━━━\u001b[0m \u001b[32m234.2/234.2 KB\u001b[0m \u001b[31m2.8 MB/s\u001b[0m eta \u001b[36m0:00:00\u001b[0ma \u001b[36m0:00:01\u001b[0m\n",
      "\u001b[?25hCollecting marisa-trie\n",
      "  Downloading marisa_trie-1.1.0-cp310-cp310-manylinux_2_17_x86_64.manylinux2014_x86_64.whl (1.3 MB)\n",
      "\u001b[2K     \u001b[90m━━━━━━━━━━━━━━━━━━━━━━━━━━━━━━━━━━━━━━━━\u001b[0m \u001b[32m1.3/1.3 MB\u001b[0m \u001b[31m2.8 MB/s\u001b[0m eta \u001b[36m0:00:00\u001b[0ma \u001b[36m0:00:01\u001b[0m\n",
      "\u001b[?25hRequirement already satisfied: setuptools in /usr/lib/python3/dist-packages (from marisa-trie->lextoplus) (59.6.0)\n",
      "Installing collected packages: marisa-trie, lextoplus\n",
      "Successfully installed lextoplus-0.0.5 marisa-trie-1.1.0\n"
     ]
    }
   ],
   "source": [
    "!pip install python-terrier\n",
    "!pip install datasets\n",
    "!pip install lextoplus"
   ]
  },
  {
   "cell_type": "markdown",
   "metadata": {
    "id": "ZpR4QfnN_sbI"
   },
   "source": [
    "# Import Libraries"
   ]
  },
  {
   "cell_type": "code",
   "execution_count": 2,
   "metadata": {},
   "outputs": [],
   "source": [
    "import os\n",
    "os.environ['JAVA_HOME'] = '/usr/lib/jvm/java-19-openjdk-amd64'"
   ]
  },
  {
   "cell_type": "code",
   "execution_count": 3,
   "metadata": {
    "id": "J8feTWMxlRVH"
   },
   "outputs": [],
   "source": [
    "import pyterrier as pt\n",
    "from pyterrier.measures import *\n",
    "from datasets import load_dataset\n",
    "from lextoplus import LexToPlus\n",
    "import pandas as pd\n",
    "import re"
   ]
  },
  {
   "cell_type": "markdown",
   "metadata": {
    "id": "_9Dg-8zZ_ot9"
   },
   "source": [
    "You must run pt.init() before other pyterrier functions and classes."
   ]
  },
  {
   "cell_type": "code",
   "execution_count": 5,
   "metadata": {
    "id": "6pILgdQkiNU9"
   },
   "outputs": [],
   "source": [
    "if not pt.started():\n",
    "    pt.init()"
   ]
  },
  {
   "cell_type": "markdown",
   "metadata": {
    "id": "gW_Wtky9M_2d"
   },
   "source": [
    "# Load Dataset\n",
    "We're going to use a very old IR test collection called [Mr. TyDi](https://huggingface.co/datasets/castorini/mr-tydi) . This is a multi-lingual benchmark dataset built on TyDi, covering eleven typologically diverse languages. It is designed for monolingual retrieval, specifically to evaluate ranking with learned dense representations."
   ]
  },
  {
   "cell_type": "markdown",
   "metadata": {
    "id": "eF-4aJ06FBbD"
   },
   "source": [
    "## Load Corpus for Index"
   ]
  },
  {
   "cell_type": "code",
   "execution_count": 6,
   "metadata": {
    "id": "lWRLp_Zblfcj"
   },
   "outputs": [
    {
     "name": "stderr",
     "output_type": "stream",
     "text": [
      "/home/search/.local/lib/python3.10/site-packages/datasets/load.py:1454: FutureWarning: The repository for castorini/mr-tydi-corpus contains custom code which must be executed to correctly load the dataset. You can inspect the repository content at https://hf.co/datasets/castorini/mr-tydi-corpus\n",
      "You can avoid this message in future by passing the argument `trust_remote_code=True`.\n",
      "Passing `trust_remote_code=True` will be mandatory to load this dataset from the next major release of `datasets`.\n",
      "  warnings.warn(\n"
     ]
    },
    {
     "data": {
      "application/vnd.jupyter.widget-view+json": {
       "model_id": "d8a93d542278484494c93bfa04d5ef65",
       "version_major": 2,
       "version_minor": 0
      },
      "text/plain": [
       "Downloading builder script:   0%|          | 0.00/3.15k [00:00<?, ?B/s]"
      ]
     },
     "metadata": {},
     "output_type": "display_data"
    },
    {
     "data": {
      "application/vnd.jupyter.widget-view+json": {
       "model_id": "87f9bcc28ff14f1493a774525c1f9349",
       "version_major": 2,
       "version_minor": 0
      },
      "text/plain": [
       "Downloading readme:   0%|          | 0.00/1.50k [00:00<?, ?B/s]"
      ]
     },
     "metadata": {},
     "output_type": "display_data"
    },
    {
     "data": {
      "application/vnd.jupyter.widget-view+json": {
       "model_id": "235a6ccb494540999a3da5291498908b",
       "version_major": 2,
       "version_minor": 0
      },
      "text/plain": [
       "Downloading data:   0%|          | 0.00/115M [00:00<?, ?B/s]"
      ]
     },
     "metadata": {},
     "output_type": "display_data"
    },
    {
     "data": {
      "application/vnd.jupyter.widget-view+json": {
       "model_id": "21d5db4ebb73408294b36efd0c72b68c",
       "version_major": 2,
       "version_minor": 0
      },
      "text/plain": [
       "Generating train split: 0 examples [00:00, ? examples/s]"
      ]
     },
     "metadata": {},
     "output_type": "display_data"
    }
   ],
   "source": [
    "corpus = load_dataset('castorini/mr-tydi-corpus', 'thai')"
   ]
  },
  {
   "cell_type": "code",
   "execution_count": 7,
   "metadata": {
    "id": "TwWnKufRtFOs"
   },
   "outputs": [
    {
     "data": {
      "text/plain": [
       "DatasetDict({\n",
       "    train: Dataset({\n",
       "        features: ['docid', 'title', 'text'],\n",
       "        num_rows: 568855\n",
       "    })\n",
       "})"
      ]
     },
     "execution_count": 7,
     "metadata": {},
     "output_type": "execute_result"
    }
   ],
   "source": [
    "corpus"
   ]
  },
  {
   "cell_type": "markdown",
   "metadata": {
    "id": "hKoBaVixFLCM"
   },
   "source": [
    "## Load Dataset for create topics & qrels."
   ]
  },
  {
   "cell_type": "code",
   "execution_count": 8,
   "metadata": {
    "id": "Vl7xHMyHtFuW"
   },
   "outputs": [
    {
     "data": {
      "application/vnd.jupyter.widget-view+json": {
       "model_id": "02d30478940748c69da3c4e310dfb5b5",
       "version_major": 2,
       "version_minor": 0
      },
      "text/plain": [
       "Downloading data:   0%|          | 0.00/60.0M [00:00<?, ?B/s]"
      ]
     },
     "metadata": {},
     "output_type": "display_data"
    },
    {
     "data": {
      "application/vnd.jupyter.widget-view+json": {
       "model_id": "b633829da431485481681708cca8f593",
       "version_major": 2,
       "version_minor": 0
      },
      "text/plain": [
       "Downloading data:   0%|          | 0.00/59.1k [00:00<?, ?B/s]"
      ]
     },
     "metadata": {},
     "output_type": "display_data"
    },
    {
     "data": {
      "application/vnd.jupyter.widget-view+json": {
       "model_id": "010f7a769a1a4232aa4db051d43302ac",
       "version_major": 2,
       "version_minor": 0
      },
      "text/plain": [
       "Downloading data:   0%|          | 0.00/89.4k [00:00<?, ?B/s]"
      ]
     },
     "metadata": {},
     "output_type": "display_data"
    },
    {
     "data": {
      "application/vnd.jupyter.widget-view+json": {
       "model_id": "68e3cf49e9144174adc53a787c22e383",
       "version_major": 2,
       "version_minor": 0
      },
      "text/plain": [
       "Generating train split:   0%|          | 0/3319 [00:00<?, ? examples/s]"
      ]
     },
     "metadata": {},
     "output_type": "display_data"
    },
    {
     "data": {
      "application/vnd.jupyter.widget-view+json": {
       "model_id": "be5a6304091d45d682831a303f1dd704",
       "version_major": 2,
       "version_minor": 0
      },
      "text/plain": [
       "Generating dev split:   0%|          | 0/807 [00:00<?, ? examples/s]"
      ]
     },
     "metadata": {},
     "output_type": "display_data"
    },
    {
     "data": {
      "application/vnd.jupyter.widget-view+json": {
       "model_id": "38ca19eb918a47e7bf4b3df5f922f467",
       "version_major": 2,
       "version_minor": 0
      },
      "text/plain": [
       "Generating test split:   0%|          | 0/1190 [00:00<?, ? examples/s]"
      ]
     },
     "metadata": {},
     "output_type": "display_data"
    }
   ],
   "source": [
    "dataset = load_dataset('castorini/mr-tydi', 'thai')"
   ]
  },
  {
   "cell_type": "code",
   "execution_count": 9,
   "metadata": {
    "id": "igx8pgL7Bo3l"
   },
   "outputs": [
    {
     "data": {
      "text/plain": [
       "DatasetDict({\n",
       "    train: Dataset({\n",
       "        features: ['query_id', 'query', 'positive_passages', 'negative_passages'],\n",
       "        num_rows: 3319\n",
       "    })\n",
       "    dev: Dataset({\n",
       "        features: ['query_id', 'query', 'positive_passages', 'negative_passages'],\n",
       "        num_rows: 807\n",
       "    })\n",
       "    test: Dataset({\n",
       "        features: ['query_id', 'query', 'positive_passages', 'negative_passages'],\n",
       "        num_rows: 1190\n",
       "    })\n",
       "})"
      ]
     },
     "execution_count": 9,
     "metadata": {},
     "output_type": "execute_result"
    }
   ],
   "source": [
    "dataset"
   ]
  },
  {
   "cell_type": "markdown",
   "metadata": {
    "id": "DQUTYMhPDPCf"
   },
   "source": [
    "# Indexing a Corpus"
   ]
  },
  {
   "cell_type": "code",
   "execution_count": null,
   "metadata": {
    "id": "0rOV3wYJGN7W"
   },
   "outputs": [],
   "source": [
    "def iterdf():\n",
    "    for data in corpus['train']:\n",
    "        docno = data['docid']\n",
    "        title = data['title']\n",
    "        text = data['text']\n",
    "        text = title + ' ' + text\n",
    "        yield {'docno':docno, 'text': ' '.join(word_tokenize(text, engine=\"newmm\"))}"
   ]
  },
  {
   "cell_type": "markdown",
   "metadata": {
    "id": "CXVPqpZFG_VQ"
   },
   "source": [
    "Use this Indexer if you wish to index an iter of dicts (possibly with multiple fields). This version is optimized by using multiple threads and POSIX fifos to tranfer data, which ends up being much faster."
   ]
  },
  {
   "cell_type": "code",
   "execution_count": null,
   "metadata": {
    "id": "T-WoY4xTH0_h"
   },
   "outputs": [],
   "source": [
    "index_path = './tydi-index-corpus'\n",
    "indexer = pt.IterDictIndexer(index_path,\n",
    "                        overwrite=True, stemmer=None, stopwords=None, tokeniser=\"UTFTokeniser\")"
   ]
  },
  {
   "cell_type": "code",
   "execution_count": null,
   "metadata": {
    "id": "xPRYFbA5H3a8"
   },
   "outputs": [],
   "source": [
    "%%time\n",
    "itix = indexer.index(iterdf())"
   ]
  },
  {
   "cell_type": "markdown",
   "metadata": {
    "id": "WQ3sLSeNDx1C"
   },
   "source": [
    "# Retrieval\n",
    "BatchRetrieve is one of the most commonly used PyTerrier objects. It represents a retrieval transformation, in which queries are mapped to retrieved documents. BatchRetrieve uses a pre-existing Terrier index data structure, typically saved on disk."
   ]
  },
  {
   "cell_type": "code",
   "execution_count": null,
   "metadata": {
    "id": "gvDjk8amH7p3"
   },
   "outputs": [],
   "source": [
    "def es_preprocess(text):\n",
    "    text = ' '.join(word_tokenize(text))\n",
    "    return text"
   ]
  },
  {
   "cell_type": "code",
   "execution_count": null,
   "metadata": {
    "id": "45wF-WR8JTWp"
   },
   "outputs": [],
   "source": [
    "%%time\n",
    "tfidf_nostem = pt.apply.query(\n",
    "    lambda row: es_preprocess(row.query)\n",
    "    ) >> pt.BatchRetrieve(itix, wmodel='TF_IDF')"
   ]
  },
  {
   "cell_type": "code",
   "execution_count": null,
   "metadata": {
    "id": "FP2NN4YUJ3o7"
   },
   "outputs": [],
   "source": [
    "def cleanstr(text):\n",
    "    text = text.replace('?', '')\n",
    "    text = re.sub(r'[^\\u0E00-\\u0E7Fa-zA-Z0-9 ]', '', text)\n",
    "\n",
    "    return text"
   ]
  },
  {
   "cell_type": "markdown",
   "metadata": {
    "id": "_7njMSp-S7nz"
   },
   "source": [
    "## Create Topics"
   ]
  },
  {
   "cell_type": "code",
   "execution_count": null,
   "metadata": {
    "id": "g2ELoaHqJ5Vl"
   },
   "outputs": [],
   "source": [
    "topics = []\n",
    "for data in dataset['test']:\n",
    "    query = data['query']\n",
    "    qid = data['query_id']\n",
    "    tmp = {'qid':qid, 'query':cleanstr(query)}\n",
    "    topics.append(tmp)"
   ]
  },
  {
   "cell_type": "code",
   "execution_count": null,
   "metadata": {
    "id": "G0TOZ7chKAqF"
   },
   "outputs": [],
   "source": [
    "topics = pd.DataFrame(topics)"
   ]
  },
  {
   "cell_type": "code",
   "execution_count": null,
   "metadata": {
    "id": "01CIO3QhKCyB"
   },
   "outputs": [],
   "source": [
    "topics"
   ]
  },
  {
   "cell_type": "markdown",
   "metadata": {
    "id": "uFwj5rEkS-aI"
   },
   "source": [
    "## Create Qrels"
   ]
  },
  {
   "cell_type": "code",
   "execution_count": null,
   "metadata": {
    "id": "Et6n_0YoJUrD"
   },
   "outputs": [],
   "source": [
    "qrels = []\n",
    "for row in dataset['test']:\n",
    "    for p in row['positive_passages']:\n",
    "        qrels.append({\n",
    "            'qid' : row['query_id'],\n",
    "            'docno' : p['docid'],\n",
    "            'label' : 1,\n",
    "            'iter' : 1\n",
    "        })"
   ]
  },
  {
   "cell_type": "code",
   "execution_count": null,
   "metadata": {
    "id": "wg4t46udJj5b"
   },
   "outputs": [],
   "source": [
    "qrels = pd.DataFrame(qrels)"
   ]
  },
  {
   "cell_type": "code",
   "execution_count": null,
   "metadata": {
    "id": "xeaJ0p8_Jn7F"
   },
   "outputs": [],
   "source": [
    "qrels"
   ]
  },
  {
   "cell_type": "markdown",
   "metadata": {
    "id": "s9ksF6MYM7OW"
   },
   "source": [
    "# Evaluation"
   ]
  },
  {
   "cell_type": "code",
   "execution_count": null,
   "metadata": {
    "id": "SB-7IEiLMFHq"
   },
   "outputs": [],
   "source": [
    "%%time\n",
    "pt.Experiment(\n",
    "    [tfidf_nostem],\n",
    "    topics,\n",
    "    qrels,\n",
    "    ['map_cut_10', 'recip_rank', nDCG@5],\n",
    "    names=['TFIDF'],\n",
    "    round=4\n",
    ")"
   ]
  },
  {
   "cell_type": "markdown",
   "metadata": {
    "id": "88E0SYufO6dX"
   },
   "source": [
    "# Search"
   ]
  },
  {
   "cell_type": "code",
   "execution_count": null,
   "metadata": {
    "id": "WJi6b9KkJvzT"
   },
   "outputs": [],
   "source": [
    "df = corpus['train'].to_pandas()"
   ]
  },
  {
   "cell_type": "code",
   "execution_count": null,
   "metadata": {
    "id": "KEaXD5d2KFje"
   },
   "outputs": [],
   "source": [
    "dataset['test'][1]"
   ]
  },
  {
   "cell_type": "code",
   "execution_count": null,
   "metadata": {
    "id": "Sr9RAln4KP7l"
   },
   "outputs": [],
   "source": [
    "query =' '.join(word_tokenize(cleanstr('สกอตแลนด​์อยู่ที่ไหน')))"
   ]
  },
  {
   "cell_type": "code",
   "execution_count": null,
   "metadata": {
    "id": "37s86xBYKa0J"
   },
   "outputs": [],
   "source": [
    "query"
   ]
  },
  {
   "cell_type": "code",
   "execution_count": null,
   "metadata": {
    "id": "ZnldfYAMJamT"
   },
   "outputs": [],
   "source": [
    "out = tfidf_nostem.search(query)[:10]\n",
    "out"
   ]
  },
  {
   "cell_type": "code",
   "execution_count": null,
   "metadata": {
    "id": "v0wqok3zOp-R"
   },
   "outputs": [],
   "source": [
    "for row in out['docno']:\n",
    "    print(row)\n",
    "    print(df[df['docid'] == row].text.tolist()[0])\n",
    "    print('-'*10)"
   ]
  },
  {
   "cell_type": "markdown",
   "metadata": {
    "id": "1cAaobHPOMpB"
   },
   "source": [
    "# Assignment"
   ]
  },
  {
   "cell_type": "markdown",
   "metadata": {
    "id": "MflCW9fbStPg"
   },
   "source": [
    "Implement indexing and retrieval systems using more weighting models and evaluation metrics than those used in lab settings. Then, compare the results."
   ]
  },
  {
   "cell_type": "code",
   "execution_count": null,
   "metadata": {
    "id": "7dxd9BQFONpL"
   },
   "outputs": [],
   "source": []
  }
 ],
 "metadata": {
  "colab": {
   "provenance": [],
   "toc_visible": true
  },
  "kernelspec": {
   "display_name": "Python 3 (ipykernel)",
   "language": "python",
   "name": "python3"
  },
  "language_info": {
   "codemirror_mode": {
    "name": "ipython",
    "version": 3
   },
   "file_extension": ".py",
   "mimetype": "text/x-python",
   "name": "python",
   "nbconvert_exporter": "python",
   "pygments_lexer": "ipython3",
   "version": "3.10.12"
  }
 },
 "nbformat": 4,
 "nbformat_minor": 4
}
